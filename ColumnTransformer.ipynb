{
 "cells": [
  {
   "cell_type": "code",
   "execution_count": 31,
   "metadata": {},
   "outputs": [],
   "source": [
    "import pandas as pd\n",
    "from sklearn.compose import make_column_transformer\n",
    "from sklearn.preprocessing import OneHotEncoder\n",
    "from sklearn.impute import SimpleImputer"
   ]
  },
  {
   "cell_type": "code",
   "execution_count": 32,
   "metadata": {},
   "outputs": [
    {
     "data": {
      "text/html": [
       "<div>\n",
       "<style scoped>\n",
       "    .dataframe tbody tr th:only-of-type {\n",
       "        vertical-align: middle;\n",
       "    }\n",
       "\n",
       "    .dataframe tbody tr th {\n",
       "        vertical-align: top;\n",
       "    }\n",
       "\n",
       "    .dataframe thead th {\n",
       "        text-align: right;\n",
       "    }\n",
       "</style>\n",
       "<table border=\"1\" class=\"dataframe\">\n",
       "  <thead>\n",
       "    <tr style=\"text-align: right;\">\n",
       "      <th></th>\n",
       "      <th>Pclass</th>\n",
       "      <th>Sex</th>\n",
       "      <th>Age</th>\n",
       "      <th>Embarked</th>\n",
       "      <th>Fare</th>\n",
       "    </tr>\n",
       "  </thead>\n",
       "  <tbody>\n",
       "    <tr>\n",
       "      <th>0</th>\n",
       "      <td>3</td>\n",
       "      <td>male</td>\n",
       "      <td>22.0</td>\n",
       "      <td>S</td>\n",
       "      <td>7.2500</td>\n",
       "    </tr>\n",
       "    <tr>\n",
       "      <th>1</th>\n",
       "      <td>1</td>\n",
       "      <td>female</td>\n",
       "      <td>38.0</td>\n",
       "      <td>C</td>\n",
       "      <td>71.2833</td>\n",
       "    </tr>\n",
       "    <tr>\n",
       "      <th>2</th>\n",
       "      <td>3</td>\n",
       "      <td>female</td>\n",
       "      <td>26.0</td>\n",
       "      <td>S</td>\n",
       "      <td>7.9250</td>\n",
       "    </tr>\n",
       "    <tr>\n",
       "      <th>3</th>\n",
       "      <td>1</td>\n",
       "      <td>female</td>\n",
       "      <td>35.0</td>\n",
       "      <td>S</td>\n",
       "      <td>53.1000</td>\n",
       "    </tr>\n",
       "    <tr>\n",
       "      <th>4</th>\n",
       "      <td>3</td>\n",
       "      <td>male</td>\n",
       "      <td>35.0</td>\n",
       "      <td>S</td>\n",
       "      <td>8.0500</td>\n",
       "    </tr>\n",
       "    <tr>\n",
       "      <th>5</th>\n",
       "      <td>3</td>\n",
       "      <td>male</td>\n",
       "      <td>NaN</td>\n",
       "      <td>Q</td>\n",
       "      <td>8.4583</td>\n",
       "    </tr>\n",
       "  </tbody>\n",
       "</table>\n",
       "</div>"
      ],
      "text/plain": [
       "   Pclass     Sex   Age Embarked     Fare\n",
       "0       3    male  22.0        S   7.2500\n",
       "1       1  female  38.0        C  71.2833\n",
       "2       3  female  26.0        S   7.9250\n",
       "3       1  female  35.0        S  53.1000\n",
       "4       3    male  35.0        S   8.0500\n",
       "5       3    male   NaN        Q   8.4583"
      ]
     },
     "execution_count": 32,
     "metadata": {},
     "output_type": "execute_result"
    }
   ],
   "source": [
    "data = pd.read_csv('Titanic.csv')\n",
    "\n",
    "# Select a few rows to demonstrate the result\n",
    "\n",
    "X = data.loc[:5,['Pclass','Sex','Age','Embarked','Fare']]\n",
    "X"
   ]
  },
  {
   "cell_type": "code",
   "execution_count": 33,
   "metadata": {},
   "outputs": [],
   "source": [
    "# Instantiate the encoder and the imputer\n",
    "\n",
    "ohe = OneHotEncoder()\n",
    "si = SimpleImputer()"
   ]
  },
  {
   "cell_type": "code",
   "execution_count": 34,
   "metadata": {},
   "outputs": [],
   "source": [
    "# Make the column transformer\n",
    "\n",
    "ct1 = make_column_transformer(\n",
    "    (ohe, ['Sex','Embarked']),  # Apply OneHotEncoder to 'Sex' and 'Embarked' columns\n",
    "    (si, ['Age']),              # Apply SimpleImputer to 'Age' column using the default strategy = mean\n",
    "    remainder = 'passthrough')  # Passthrough the rest of the columns"
   ]
  },
  {
   "cell_type": "code",
   "execution_count": 35,
   "metadata": {},
   "outputs": [
    {
     "data": {
      "text/plain": [
       "array([[ 0.    ,  1.    ,  0.    ,  0.    ,  1.    , 22.    ,  3.    ,\n",
       "         7.25  ],\n",
       "       [ 1.    ,  0.    ,  1.    ,  0.    ,  0.    , 38.    ,  1.    ,\n",
       "        71.2833],\n",
       "       [ 1.    ,  0.    ,  0.    ,  0.    ,  1.    , 26.    ,  3.    ,\n",
       "         7.925 ],\n",
       "       [ 1.    ,  0.    ,  0.    ,  0.    ,  1.    , 35.    ,  1.    ,\n",
       "        53.1   ],\n",
       "       [ 0.    ,  1.    ,  0.    ,  0.    ,  1.    , 35.    ,  3.    ,\n",
       "         8.05  ],\n",
       "       [ 0.    ,  1.    ,  0.    ,  1.    ,  0.    , 31.2   ,  3.    ,\n",
       "         8.4583]])"
      ]
     },
     "execution_count": 35,
     "metadata": {},
     "output_type": "execute_result"
    }
   ],
   "source": [
    "ct1.fit_transform(X)"
   ]
  },
  {
   "cell_type": "code",
   "execution_count": 36,
   "metadata": {},
   "outputs": [],
   "source": [
    "ct2 = make_column_transformer(\n",
    "    (ohe, ['Sex','Embarked']),    # Apply OneHotEncoder to 'Sex' and 'Embarked' columns\n",
    "    (si, ['Age']),               # Apply SimpleImputer to 'Age' column with strategy = mean\n",
    "    ('passthrough', ['Fare']),   # Passthrough the column 'Fare'\n",
    "    remainder = 'drop')          # Drop the rest of the columns "
   ]
  },
  {
   "cell_type": "code",
   "execution_count": 37,
   "metadata": {},
   "outputs": [
    {
     "data": {
      "text/plain": [
       "array([[ 0.    ,  1.    ,  0.    ,  0.    ,  1.    , 22.    ,  7.25  ],\n",
       "       [ 1.    ,  0.    ,  1.    ,  0.    ,  0.    , 38.    , 71.2833],\n",
       "       [ 1.    ,  0.    ,  0.    ,  0.    ,  1.    , 26.    ,  7.925 ],\n",
       "       [ 1.    ,  0.    ,  0.    ,  0.    ,  1.    , 35.    , 53.1   ],\n",
       "       [ 0.    ,  1.    ,  0.    ,  0.    ,  1.    , 35.    ,  8.05  ],\n",
       "       [ 0.    ,  1.    ,  0.    ,  1.    ,  0.    , 31.2   ,  8.4583]])"
      ]
     },
     "execution_count": 37,
     "metadata": {},
     "output_type": "execute_result"
    }
   ],
   "source": [
    "ct2.fit_transform(X)"
   ]
  },
  {
   "cell_type": "code",
   "execution_count": 38,
   "metadata": {},
   "outputs": [],
   "source": [
    "ct3 = make_column_transformer(\n",
    "    (ohe, ['Sex','Embarked']),    # Apply OneHotEncoder to 'Sex' and 'Embarked' columns\n",
    "    (si, ['Age']),                # Apply SimpleImputer to 'Age' column with strategy = mean\n",
    "    ('drop', ['Fare']),           # Drop the column 'Fare'\n",
    "    remainder = 'passthrough')    # Passthrough the rest of the columns "
   ]
  },
  {
   "cell_type": "code",
   "execution_count": 39,
   "metadata": {},
   "outputs": [
    {
     "data": {
      "text/plain": [
       "array([[ 0. ,  1. ,  0. ,  0. ,  1. , 22. ,  3. ],\n",
       "       [ 1. ,  0. ,  1. ,  0. ,  0. , 38. ,  1. ],\n",
       "       [ 1. ,  0. ,  0. ,  0. ,  1. , 26. ,  3. ],\n",
       "       [ 1. ,  0. ,  0. ,  0. ,  1. , 35. ,  1. ],\n",
       "       [ 0. ,  1. ,  0. ,  0. ,  1. , 35. ,  3. ],\n",
       "       [ 0. ,  1. ,  0. ,  1. ,  0. , 31.2,  3. ]])"
      ]
     },
     "execution_count": 39,
     "metadata": {},
     "output_type": "execute_result"
    }
   ],
   "source": [
    "ct3.fit_transform(X)"
   ]
  }
 ],
 "metadata": {
  "interpreter": {
   "hash": "c3cc9898303d53b934aba878e678866d09c1cbd6e707b12b98604fb91d02eefb"
  },
  "kernelspec": {
   "display_name": "Python 3.8.3 64-bit ('base': conda)",
   "name": "python3"
  },
  "language_info": {
   "codemirror_mode": {
    "name": "ipython",
    "version": 3
   },
   "file_extension": ".py",
   "mimetype": "text/x-python",
   "name": "python",
   "nbconvert_exporter": "python",
   "pygments_lexer": "ipython3",
   "version": "3.8.3"
  },
  "orig_nbformat": 4
 },
 "nbformat": 4,
 "nbformat_minor": 2
}
